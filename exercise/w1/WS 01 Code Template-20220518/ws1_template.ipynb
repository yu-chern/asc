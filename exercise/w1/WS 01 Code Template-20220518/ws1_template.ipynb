{
 "cells": [
  {
   "cell_type": "markdown",
   "metadata": {},
   "source": [
    "# Interpolation of the Trajectory of the Asteroid Pallas"
   ]
  },
  {
   "cell_type": "markdown",
   "metadata": {},
   "source": [
    "Motivated by the discovery of the asteroids Ceres (1801) and Pallas (1802), Carl Friedrich Gauss\n",
    "studied the computation of planet trajectories in the beginning of the 19th century. There, he\n",
    "was faced with the following problem of trigonometric interpolation."
   ]
  },
  {
   "cell_type": "markdown",
   "metadata": {},
   "source": [
    "## Interpolation of the Asteroid's Trajectory"
   ]
  },
  {
   "cell_type": "markdown",
   "metadata": {},
   "source": [
    "The following data of the trajectory have been available to Gauss:\n",
    "\n",
    "<table border=\"1\">\n",
    "<tr>\n",
    "    <th> Ascension $\\theta$ (in degrees) </th>\n",
    "    <td> 0 </td>\n",
    "    <td> 30 </td>\n",
    "    <td> 60 </td>\n",
    "    <td> 90 </td>\n",
    "    <td> 120 </td>\n",
    "    <td> 150 </td>\n",
    "    <td> 180 </td>\n",
    "    <td> 210 </td>\n",
    "    <td> 240 </td>\n",
    "    <td> 270 </td>\n",
    "    <td> 300 </td>\n",
    "    <td> 330 </td>\n",
    "</tr>\n",
    "<tr>\n",
    "    <th> Declination $X$ (in minutes) </th>\n",
    "    <td> 408 </td>\n",
    "    <td> 89 </td>\n",
    "    <td> -66 </td>\n",
    "    <td> 10 </td>\n",
    "    <td> 338 </td>\n",
    "    <td> 807 </td>\n",
    "    <td> 1238 </td>\n",
    "    <td> 1511 </td>\n",
    "    <td> 1583 </td>\n",
    "    <td> 1462 </td>\n",
    "    <td> 1183 </td>\n",
    "    <td> 804 </td>\n",
    "</tr>\n",
    "</table>\n",
    "\n",
    "Since the declination $X$ is periodic with regard to $\\theta$, the given\n",
    "trajectory data should be interpolated by the following trigonometric function:\n",
    "\n",
    "\\begin{equation}\n",
    "   X(\\theta) = a_0\n",
    "             + \\sum\\limits_{k=1}^5 \\left(\n",
    "                    a_k \\cos\\left( \\frac{2\\pi k \\theta}{360}\\right)\n",
    "                   +b_k \\sin\\left( \\frac{2\\pi k \\theta}{360}\\right)\n",
    "               \\right)\n",
    "             + a_6 \\cos \\left( \\frac{2\\pi \\cdot 6 \\theta}{360}\\right)     \n",
    "\\end{equation}\n",
    "\n",
    "The data $X_l$ and $\\theta_l = 30l$ have to satisfy $X(\\theta_l) = X_l$\n",
    "for all $l = 0,\\ldots,11$. Thus,\n",
    "\n",
    "\\begin{equation} \\label{eq:interpol}\n",
    "    X_l = a_0\n",
    "        + \\sum\\limits_{k=1}^5 \\left(\n",
    "               a_k \\cos\\left( \\frac{\\pi k l}{6}\\right)\n",
    "              +b_k \\sin\\left( \\frac{\\pi k l}{6}\\right)\n",
    "          \\right)\n",
    "        + a_6 \\cos \\left( \\pi l \\right).     \n",
    "\\end{equation}"
   ]
  },
  {
   "cell_type": "markdown",
   "metadata": {},
   "source": [
    "## Python Demo"
   ]
  },
  {
   "cell_type": "markdown",
   "metadata": {},
   "source": [
    "Create a Python script (using IPython Notebook) to compute the\n",
    "coefficients $a_k$ and $b_k$.\n",
    "Plot the graph of the interpolated trajectory."
   ]
  },
  {
   "cell_type": "code",
   "execution_count": 4,
   "metadata": {},
   "outputs": [],
   "source": [
    "# write your code here"
   ]
  },
  {
   "cell_type": "markdown",
   "metadata": {},
   "source": [
    "## Exercise 1"
   ]
  },
  {
   "cell_type": "markdown",
   "metadata": {},
   "source": [
    "Show that the interpolation problem in the previously used interpolation equation is equivalent to\n",
    "\n",
    "\\begin{equation} \\label{eq:complinter}\n",
    "    X_l = \\sum\\limits_{k=-5}^6 c_k e^{i2\\pi kl/12},\n",
    "\\end{equation}\n",
    "\n",
    "if for $k=1,\\ldots,5$ $a_k$ and $b_k$ are chosen as $a_k = 2\\mathrm{Re}(\\{c_k\\})$\n",
    "and $b_k = -2\\mathrm{Im}(\\{c_k\\})$, while $c_0 = a_0$ and $c_6 = a_6$.\n",
    "\n",
    "Use the fact that all $X_l \\in \\mathbb{R}$ and, thus, that $c_{-k} = c_k^*$."
   ]
  },
  {
   "cell_type": "markdown",
   "metadata": {},
   "source": [
    "## Python Demo"
   ]
  },
  {
   "cell_type": "markdown",
   "metadata": {},
   "source": [
    "The equation from Excercise 1 also results from an interpolation problem\n",
    "with the complex interpolation function\n",
    "\\begin{equation}\n",
    "    C(x) = \\sum\\limits_{k=-5}^6 c_k e^{ikx}\n",
    "\\end{equation}\n",
    "and the supporting points $x_n = 2\\pi n/N$.\n",
    "\n",
    "Use Python to compute and plot the interpolation function $C(x)$. Use the $a_k$ and $b_k$\n",
    "from Excercise 1 and construct the $C_k$ for all $k=-\\frac{N}{2}+1,\\ldots, \\frac{N}{2}$.\n",
    "\n",
    "Can $C(x)$ be used to describe the asteroid's trajectory?"
   ]
  },
  {
   "cell_type": "code",
   "execution_count": 2,
   "metadata": {},
   "outputs": [],
   "source": [
    "# write your code here"
   ]
  },
  {
   "cell_type": "markdown",
   "metadata": {},
   "source": [
    "## Small Dictionary of Astronomy"
   ]
  },
  {
   "cell_type": "markdown",
   "metadata": {},
   "source": [
    "<b> Declination </b>\n",
    "\n",
    "   The angle between the celestial object and the celestial equator (projection\n",
    "   of the earth equator on the celestial sphere).\n",
    "\n",
    "<b> Ascension </b>\n",
    "\n",
    "   The angle between the First Point of Aries (The point where the ecliptic intersects\n",
    "   the celestial equator) and the intersection point of the meridian of a celestial object\n",
    "   and the celestial equator. It is equvalent to the geographical longitude but is\n",
    "   measured to the east on the celestial equator. The units are usually hours, minutes\n",
    "   and seconds, where 24 hours are equal to 360$^\\circ$.\n"
   ]
  },
  {
   "cell_type": "markdown",
   "metadata": {},
   "source": [
    "## Exercise 2"
   ]
  },
  {
   "cell_type": "markdown",
   "metadata": {},
   "source": [
    "The functions $\\cos$ and $\\sin$ are axially respectively point symmetric to the\n",
    "ascension of 180 degrees. What can be found for the coefficients $a_k$\n",
    "and $b_k$ from the last exercise, if the following conditions hold:\n",
    "\n",
    "\\begin{eqnarray*}\n",
    "    X_l = X(\\theta_l) &=&  X(360-\\theta_l) = X_{12-l} \\qquad \\mbox{respectively}\\\\\n",
    "    X_l = X(\\theta_l) &=&  -X(360-\\theta_l) = -X_{12-l}\n",
    "\\end{eqnarray*}\n",
    "\n",
    "Hint: Which values are allowed for $X_0$ and $X_6$ in the case $X_l = -X_{12-l}$?"
   ]
  }
 ],
 "metadata": {
  "kernelspec": {
   "display_name": "Python 3",
   "language": "python",
   "name": "python3"
  },
  "language_info": {
   "codemirror_mode": {
    "name": "ipython",
    "version": 3
   },
   "file_extension": ".py",
   "mimetype": "text/x-python",
   "name": "python",
   "nbconvert_exporter": "python",
   "pygments_lexer": "ipython3",
   "version": "3.6.6"
  }
 },
 "nbformat": 4,
 "nbformat_minor": 1
}
